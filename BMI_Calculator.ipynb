{
 "cells": [
  {
   "cell_type": "markdown",
   "metadata": {},
   "source": [
    "# BMI Calculator\n"
   ]
  },
  {
   "cell_type": "code",
   "execution_count": 1,
   "metadata": {},
   "outputs": [
    {
     "name": "stdout",
     "output_type": "stream",
     "text": [
      "Hello Lewis. Welcome to our BMI Calculation System\n"
     ]
    }
   ],
   "source": [
    "Name = input(\"What is you name\")\n",
    "print (f\"Hello {Name}. Welcome to our BMI Calculation System\")"
   ]
  },
  {
   "cell_type": "markdown",
   "metadata": {},
   "source": [
    " "
   ]
  },
  {
   "cell_type": "code",
   "execution_count": 5,
   "metadata": {},
   "outputs": [
    {
     "name": "stdout",
     "output_type": "stream",
     "text": [
      " Provide us with the information below:\n",
      "****************************RESULTS****************************\n",
      "Your BMI is: 18.52\n",
      "You are normal\n"
     ]
    }
   ],
   "source": [
    "print(\" Provide us with the information below:\")\n",
    "weight = float (input(\"Enter your weight: kgs\"))\n",
    "\n",
    "height =float( input(\"Enter your height: meters\"))\n",
    "\n",
    "BMI = round(weight / (height ** 2), 2)\n",
    "\n",
    "print (\"****************************RESULTS****************************\")\n",
    "print (f\"Your BMI is: {BMI}\")\n",
    "if BMI > 25:\n",
    "\n",
    "    print (\"You are overweight\")\n",
    "elif  BMI < 18:\n",
    "    print (\"You are underweight\")\n",
    "elif 18 <= BMI < 25:\n",
    "    print (\"You are normal\")\n",
    "else:\n",
    "    print (\"You are obese\")\n"
   ]
  }
 ],
 "metadata": {
  "kernelspec": {
   "display_name": "learn-env",
   "language": "python",
   "name": "python3"
  },
  "language_info": {
   "codemirror_mode": {
    "name": "ipython",
    "version": 3
   },
   "file_extension": ".py",
   "mimetype": "text/x-python",
   "name": "python",
   "nbconvert_exporter": "python",
   "pygments_lexer": "ipython3",
   "version": "3.8.5"
  }
 },
 "nbformat": 4,
 "nbformat_minor": 2
}
