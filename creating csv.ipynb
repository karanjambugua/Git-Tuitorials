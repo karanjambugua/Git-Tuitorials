{
 "cells": [
  {
   "cell_type": "code",
   "execution_count": null,
   "metadata": {},
   "outputs": [],
   "source": []
  },
  {
   "cell_type": "markdown",
   "metadata": {},
   "source": [
    "| student 1|student 2|student 3|student 4|student 5|student 6 |\n",
    "|..........|.........|.........|.........|.........|..........|\n",
    "|67        |59       |78       |89       |56       |60        |\n",
    "|78        |72       |89       |34       |61       |45        |\n",
    "|64        |59       |78       |89       |78       |56        |"
   ]
  },
  {
   "cell_type": "code",
   "execution_count": 2,
   "metadata": {},
   "outputs": [
    {
     "data": {
      "text/plain": [
       "[[67, 59, 78, 89, 56, 60], [78, 72, 89, 34, 61, 45], [64, 59, 78, 89, 78, 56]]"
      ]
     },
     "execution_count": 2,
     "metadata": {},
     "output_type": "execute_result"
    }
   ],
   "source": [
    "scores =[[67,59,78,89,56,60],\n",
    "        [78,72,89,34,61,45,],\n",
    "         [64,59,78,89,78,56]]\n",
    "scores"
   ]
  },
  {
   "cell_type": "code",
   "execution_count": 12,
   "metadata": {},
   "outputs": [
    {
     "name": "stdout",
     "output_type": "stream",
     "text": [
      "67,59,78,89,56,60\n",
      "78,72,89,34,61,45\n",
      "64,59,78,89,78,56\n"
     ]
    }
   ],
   "source": [
    "scores_csv=\"\"\n",
    "for index,student_marks in enumerate(scores):\n",
    " csv_line=\",\".join (map (str,student_marks))\n",
    " scores_csv+=csv_line\n",
    " if index<len(scores)-1:\n",
    "  scores_csv+=\"\\n\"\n",
    " print(csv_line)\n"
   ]
  },
  {
   "cell_type": "code",
   "execution_count": 14,
   "metadata": {},
   "outputs": [],
   "source": [
    "import csv"
   ]
  },
  {
   "cell_type": "code",
   "execution_count": 15,
   "metadata": {},
   "outputs": [],
   "source": [
    "with open(\"scores.csv\",\"w\") as f:\n",
    "    f.write(scores_csv)"
   ]
  },
  {
   "cell_type": "code",
   "execution_count": 16,
   "metadata": {},
   "outputs": [
    {
     "name": "stdout",
     "output_type": "stream",
     "text": [
      "67,59,78,89,56,60\n",
      "78,72,89,34,61,45\n",
      "64,59,78,89,78,56\n"
     ]
    }
   ],
   "source": [
    "with open(\"scores.csv\") as f:\n",
    "    scores_csv= f.read()\n",
    "print(scores_csv)\n"
   ]
  },
  {
   "cell_type": "code",
   "execution_count": 33,
   "metadata": {},
   "outputs": [
    {
     "data": {
      "text/plain": [
       "[[67.0, 59.0, 78.0, 89.0, 56.0, 60.0],\n",
       " [78.0, 72.0, 89.0, 34.0, 61.0, 45.0],\n",
       " [64.0, 59.0, 78.0, 89.0, 78.0, 56.0]]"
      ]
     },
     "execution_count": 33,
     "metadata": {},
     "output_type": "execute_result"
    }
   ],
   "source": [
    "with open(\"scores.csv\") as f:\n",
    "    reader = csv.reader(f, quoting = csv.QUOTE_NONNUMERIC)\n",
    "    scores_with_csv_module = list(reader)\n",
    "scores_with_csv_module\n"
   ]
  },
  {
   "cell_type": "code",
   "execution_count": 23,
   "metadata": {},
   "outputs": [
    {
     "name": "stdout",
     "output_type": "stream",
     "text": [
      "[[67, 59, 78, 89, 56, 60], [78, 72, 89, 34, 61, 45], [64, 59, 78, 89, 78, 56]]\n"
     ]
    }
   ],
   "source": [
    "scores_with_intagers =[[int(value)for value in row]for row in scores_with_csv_module]\n",
    "print(scores_with_intagers)"
   ]
  },
  {
   "cell_type": "code",
   "execution_count": 25,
   "metadata": {},
   "outputs": [
    {
     "data": {
      "text/plain": [
       "[[67, 59, 78, 89, 56, 60], [78, 72, 89, 34, 61, 45], [64, 59, 78, 89, 78, 56]]"
      ]
     },
     "execution_count": 25,
     "metadata": {},
     "output_type": "execute_result"
    }
   ],
   "source": [
    "scores_with_intagers = []\n",
    "for row in scores_with_csv_module:\n",
    "    int_row = []  # Initialize a new list for each row\n",
    "    for value in row:\n",
    "        int_row.append(int(value))  # Convert each value to an integer and append to int_row\n",
    "    scores_with_intagers.append(int_row)\n",
    "scores_with_intagers"
   ]
  },
  {
   "cell_type": "code",
   "execution_count": 5,
   "metadata": {},
   "outputs": [],
   "source": [
    "scores = [\n",
    "[67,59,78,89,56,60],\n",
    "[78,72,89,34,61,45],\n",
    "[64,59,78,89,78,56],\n",
    "\n",
    "]"
   ]
  },
  {
   "cell_type": "code",
   "execution_count": 6,
   "metadata": {},
   "outputs": [],
   "source": [
    "import csv \n",
    "with open ('scores_output.csv', 'w' , newline=\"\") as f:\n",
    "    writer = csv.writer(f)\n",
    "    writer.writerows(scores)"
   ]
  },
  {
   "cell_type": "code",
   "execution_count": 1,
   "metadata": {},
   "outputs": [
    {
     "name": "stdout",
     "output_type": "stream",
     "text": [
      "['Education', 'JoiningYear', 'City', 'PaymentTier', 'Age', 'Gender', 'EverBenched', 'ExperienceInCurrentDomain', 'LeaveOrNot']\n",
      "['Bachelors', '2017', 'Bangalore', '3', '34', 'Male', 'No', '0', '0']\n",
      "['Bachelors', '2013', 'Pune', '1', '28', 'Female', 'No', '3', '1']\n",
      "['Bachelors', '2014', 'New Delhi', '3', '38', 'Female', 'No', '2', '0']\n",
      "['Masters', '2016', 'Bangalore', '3', '27', 'Male', 'No', '5', '1']\n",
      "['Masters', '2017', 'Pune', '3', '24', 'Male', 'Yes', '2', '1']\n",
      "['Bachelors', '2016', 'Bangalore', '3', '22', 'Male', 'No', '0', '0']\n",
      "['Bachelors', '2015', 'New Delhi', '3', '38', 'Male', 'No', '0', '0']\n"
     ]
    }
   ],
   "source": [
    "import csv\n",
    "\n",
    "with open(\"C:/Users/User/Desktop/csv/Employee.csv\") as f:\n",
    "    reader = csv.reader(f)\n",
    "    # Process the file here\n",
    "\n",
    "    for i in range(8):\n",
    "        print(next(reader))\n"
   ]
  },
  {
   "cell_type": "code",
   "execution_count": 6,
   "metadata": {},
   "outputs": [
    {
     "name": "stdout",
     "output_type": "stream",
     "text": [
      "{'Education': 'Bachelors', 'JoiningYear': '2017', 'City': 'Bangalore', 'PaymentTier': '3', 'Age': '34', 'Gender': 'Male', 'EverBenched': 'No', 'ExperienceInCurrentDomain': '0', 'LeaveOrNot': '0'}\n",
      "{'Education': 'Bachelors', 'JoiningYear': '2013', 'City': 'Pune', 'PaymentTier': '1', 'Age': '28', 'Gender': 'Female', 'EverBenched': 'No', 'ExperienceInCurrentDomain': '3', 'LeaveOrNot': '1'}\n",
      "{'Education': 'Bachelors', 'JoiningYear': '2014', 'City': 'New Delhi', 'PaymentTier': '3', 'Age': '38', 'Gender': 'Female', 'EverBenched': 'No', 'ExperienceInCurrentDomain': '2', 'LeaveOrNot': '0'}\n",
      "{'Education': 'Masters', 'JoiningYear': '2016', 'City': 'Bangalore', 'PaymentTier': '3', 'Age': '27', 'Gender': 'Male', 'EverBenched': 'No', 'ExperienceInCurrentDomain': '5', 'LeaveOrNot': '1'}\n",
      "{'Education': 'Masters', 'JoiningYear': '2017', 'City': 'Pune', 'PaymentTier': '3', 'Age': '24', 'Gender': 'Male', 'EverBenched': 'Yes', 'ExperienceInCurrentDomain': '2', 'LeaveOrNot': '1'}\n",
      "{'Education': 'Bachelors', 'JoiningYear': '2016', 'City': 'Bangalore', 'PaymentTier': '3', 'Age': '22', 'Gender': 'Male', 'EverBenched': 'No', 'ExperienceInCurrentDomain': '0', 'LeaveOrNot': '0'}\n",
      "{'Education': 'Bachelors', 'JoiningYear': '2015', 'City': 'New Delhi', 'PaymentTier': '3', 'Age': '38', 'Gender': 'Male', 'EverBenched': 'No', 'ExperienceInCurrentDomain': '0', 'LeaveOrNot': '0'}\n",
      "{'Education': 'Bachelors', 'JoiningYear': '2016', 'City': 'Bangalore', 'PaymentTier': '3', 'Age': '34', 'Gender': 'Female', 'EverBenched': 'No', 'ExperienceInCurrentDomain': '2', 'LeaveOrNot': '1'}\n"
     ]
    }
   ],
   "source": [
    "import csv\n",
    "\n",
    "with open(\"C:/Users/User/Desktop/csv/Employee.csv\") as f:\n",
    "    reader = csv.DictReader(f)\n",
    "    employee_data = list(reader)  # Convert the reader to a list while the file is still open\n",
    "\n",
    "# Now the file is closed, but you can work with `employee_data` as it is stored in memory\n",
    "for index in range(8):\n",
    "    print(employee_data[index])  # Print the first 8 rows from employee_data\n"
   ]
  }
 ],
 "metadata": {
  "kernelspec": {
   "display_name": "learn-env",
   "language": "python",
   "name": "python3"
  },
  "language_info": {
   "codemirror_mode": {
    "name": "ipython",
    "version": 3
   },
   "file_extension": ".py",
   "mimetype": "text/x-python",
   "name": "python",
   "nbconvert_exporter": "python",
   "pygments_lexer": "ipython3",
   "version": "3.12.3"
  }
 },
 "nbformat": 4,
 "nbformat_minor": 2
}
